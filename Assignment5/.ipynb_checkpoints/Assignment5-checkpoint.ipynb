{
 "cells": [
  {
   "cell_type": "markdown",
   "id": "3ea5efd7",
   "metadata": {},
   "source": [
    "# Assignment 5 SPARQL queries"
   ]
  },
  {
   "cell_type": "markdown",
   "id": "828dc8ad",
   "metadata": {},
   "source": [
    "First, I connect to the Uniprot endpoint and set the data format requested to the endpoint."
   ]
  },
  {
   "cell_type": "code",
   "execution_count": 48,
   "id": "23b9002c",
   "metadata": {
    "scrolled": false
   },
   "outputs": [
    {
     "data": {
      "text/html": [
       "<div class=\"krn-spql\"><div class=\"magic\">Endpoint set to: http://sparql.uniprot.org/sparql</div><div class=\"magic\">Request format: JSON</div><div class=\"magic\">Result maximum size: unlimited</div></div>"
      ],
      "text/plain": [
       "Endpoint set to: http://sparql.uniprot.org/sparql\n",
       "Request format: JSON\n",
       "Result maximum size: unlimited\n"
      ]
     },
     "metadata": {},
     "output_type": "display_data"
    }
   ],
   "source": [
    "%endpoint http://sparql.uniprot.org/sparql\n",
    "%format JSON\n",
    "%show all"
   ]
  },
  {
   "cell_type": "markdown",
   "id": "1dedbc4c",
   "metadata": {},
   "source": [
    "To explore what kind of concepts contains Uniprot, I display the types."
   ]
  },
  {
   "cell_type": "code",
   "execution_count": 49,
   "id": "cdd9a1ef",
   "metadata": {
    "scrolled": true
   },
   "outputs": [
    {
     "data": {
      "text/html": [
       "<div class=\"krn-spql\"><table><tr class=hdr><th>type</th></tr><tr class=odd><td class=val><a href=\"http://www.w3.org/2002/07/owl#InverseFunctionalProperty\" target=\"_other\">http://www.w3.org/2002/07/owl#InverseFunctionalProperty</a></td></tr><tr class=even><td class=val><a href=\"http://www.w3.org/2002/07/owl#FunctionalProperty\" target=\"_other\">http://www.w3.org/2002/07/owl#FunctionalProperty</a></td></tr><tr class=odd><td class=val><a href=\"http://www.w3.org/ns/sparql-service-description#Service\" target=\"_other\">http://www.w3.org/ns/sparql-service-description#Service</a></td></tr><tr class=even><td class=val><a href=\"http://purl.uniprot.org/core/Pathway\" target=\"_other\">http://purl.uniprot.org/core/Pathway</a></td></tr><tr class=odd><td class=val><a href=\"http://purl.uniprot.org/core/Cellular_Component\" target=\"_other\">http://purl.uniprot.org/core/Cellular_Component</a></td></tr><tr class=even><td class=val><a href=\"http://purl.uniprot.org/core/Topology\" target=\"_other\">http://purl.uniprot.org/core/Topology</a></td></tr><tr class=odd><td class=val><a href=\"http://www.w3.org/2002/07/owl#Class\" target=\"_other\">http://www.w3.org/2002/07/owl#Class</a></td></tr><tr class=even><td class=val><a href=\"http://www.w3.org/2002/07/owl#Ontology\" target=\"_other\">http://www.w3.org/2002/07/owl#Ontology</a></td></tr><tr class=odd><td class=val><a href=\"http://purl.uniprot.org/core/Citation\" target=\"_other\">http://purl.uniprot.org/core/Citation</a></td></tr><tr class=even><td class=val><a href=\"http://purl.uniprot.org/core/Orientation\" target=\"_other\">http://purl.uniprot.org/core/Orientation</a></td></tr><tr class=odd><td class=val><a href=\"http://purl.uniprot.org/core/Strain\" target=\"_other\">http://purl.uniprot.org/core/Strain</a></td></tr><tr class=even><td class=val><a href=\"http://purl.uniprot.org/core/Taxon\" target=\"_other\">http://purl.uniprot.org/core/Taxon</a></td></tr><tr class=odd><td class=val><a href=\"http://xmlns.com/foaf/0.1/Image\" target=\"_other\">http://xmlns.com/foaf/0.1/Image</a></td></tr><tr class=even><td class=val><a href=\"http://www.w3.org/ns/shacl#SPARQLConstructExecutable\" target=\"_other\">http://www.w3.org/ns/shacl#SPARQLConstructExecutable</a></td></tr><tr class=odd><td class=val><a href=\"http://www.w3.org/ns/shacl#SPARQLAskExecutable\" target=\"_other\">http://www.w3.org/ns/shacl#SPARQLAskExecutable</a></td></tr><tr class=even><td class=val><a href=\"http://www.w3.org/ns/shacl#SPARQLExecutable\" target=\"_other\">http://www.w3.org/ns/shacl#SPARQLExecutable</a></td></tr><tr class=odd><td class=val><a href=\"http://www.w3.org/ns/shacl#SPARQLSelectExecutable\" target=\"_other\">http://www.w3.org/ns/shacl#SPARQLSelectExecutable</a></td></tr><tr class=even><td class=val><a href=\"http://purl.uniprot.org/core/Enzyme\" target=\"_other\">http://purl.uniprot.org/core/Enzyme</a></td></tr><tr class=odd><td class=val><a href=\"http://purl.uniprot.org/core/Catalytic_Activity\" target=\"_other\">http://purl.uniprot.org/core/Catalytic_Activity</a></td></tr><tr class=even><td class=val><a href=\"http://purl.uniprot.org/core/Concept\" target=\"_other\">http://purl.uniprot.org/core/Concept</a></td></tr><tr class=odd><td class=val><a href=\"http://purl.uniprot.org/core/Gene\" target=\"_other\">http://purl.uniprot.org/core/Gene</a></td></tr><tr class=even><td class=val><a href=\"http://purl.uniprot.org/core/Sequence\" target=\"_other\">http://purl.uniprot.org/core/Sequence</a></td></tr><tr class=odd><td class=val><a href=\"http://purl.uniprot.org/core/Structured_Name\" target=\"_other\">http://purl.uniprot.org/core/Structured_Name</a></td></tr><tr class=even><td class=val><a href=\"http://purl.uniprot.org/core/Cluster\" target=\"_other\">http://purl.uniprot.org/core/Cluster</a></td></tr><tr class=odd><td class=val><a href=\"http://biohackathon.org/resource/faldo#InRangePosition\" target=\"_other\">http://biohackathon.org/resource/faldo#InRangePosition</a></td></tr><tr class=even><td class=val><a href=\"http://busco.ezlab.org/schema#Score\" target=\"_other\">http://busco.ezlab.org/schema#Score</a></td></tr><tr class=odd><td class=val><a href=\"http://www.w3.org/2002/07/owl#AllDifferent\" target=\"_other\">http://www.w3.org/2002/07/owl#AllDifferent</a></td></tr><tr class=even><td class=val><a href=\"http://www.w3.org/2002/07/owl#AnnotationProperty\" target=\"_other\">http://www.w3.org/2002/07/owl#AnnotationProperty</a></td></tr><tr class=odd><td class=val><a href=\"http://www.w3.org/2002/07/owl#DatatypeProperty\" target=\"_other\">http://www.w3.org/2002/07/owl#DatatypeProperty</a></td></tr><tr class=even><td class=val><a href=\"http://www.w3.org/2002/07/owl#NamedIndividual\" target=\"_other\">http://www.w3.org/2002/07/owl#NamedIndividual</a></td></tr><tr class=odd><td class=val><a href=\"http://www.w3.org/2002/07/owl#ObjectProperty\" target=\"_other\">http://www.w3.org/2002/07/owl#ObjectProperty</a></td></tr><tr class=even><td class=val><a href=\"http://www.w3.org/2002/07/owl#Restriction\" target=\"_other\">http://www.w3.org/2002/07/owl#Restriction</a></td></tr><tr class=odd><td class=val><a href=\"http://www.w3.org/2002/07/owl#Thing\" target=\"_other\">http://www.w3.org/2002/07/owl#Thing</a></td></tr><tr class=even><td class=val><a href=\"http://www.w3.org/1999/02/22-rdf-syntax-ns#List\" target=\"_other\">http://www.w3.org/1999/02/22-rdf-syntax-ns#List</a></td></tr><tr class=odd><td class=val><a href=\"http://www.w3.org/1999/02/22-rdf-syntax-ns#Statement\" target=\"_other\">http://www.w3.org/1999/02/22-rdf-syntax-ns#Statement</a></td></tr><tr class=even><td class=val><a href=\"http://www.w3.org/2000/01/rdf-schema#Datatype\" target=\"_other\">http://www.w3.org/2000/01/rdf-schema#Datatype</a></td></tr><tr class=odd><td class=val><a href=\"http://purl.uniprot.org/core/Absorption_Annotation\" target=\"_other\">http://purl.uniprot.org/core/Absorption_Annotation</a></td></tr><tr class=even><td class=val><a href=\"http://purl.uniprot.org/core/Active_Site_Annotation\" target=\"_other\">http://purl.uniprot.org/core/Active_Site_Annotation</a></td></tr><tr class=odd><td class=val><a href=\"http://purl.uniprot.org/core/Activity_Regulation_Annotation\" target=\"_other\">http://purl.uniprot.org/core/Activity_Regulation_Annotation</a></td></tr><tr class=even><td class=val><a href=\"http://purl.uniprot.org/core/Allergen_Annotation\" target=\"_other\">http://purl.uniprot.org/core/Allergen_Annotation</a></td></tr><tr class=odd><td class=val><a href=\"http://purl.uniprot.org/core/Alternative_Initiation_Annotation\" target=\"_other\">http://purl.uniprot.org/core/Alternative_Initiation_Annotation</a></td></tr><tr class=even><td class=val><a href=\"http://purl.uniprot.org/core/Alternative_Promoter_Usage_Annotation\" target=\"_other\">http://purl.uniprot.org/core/Alternative_Promoter_Usage_Annotation</a></td></tr><tr class=odd><td class=val><a href=\"http://purl.uniprot.org/core/Alternative_Sequence_Annotation\" target=\"_other\">http://purl.uniprot.org/core/Alternative_Sequence_Annotation</a></td></tr><tr class=even><td class=val><a href=\"http://purl.uniprot.org/core/Alternative_Splicing_Annotation\" target=\"_other\">http://purl.uniprot.org/core/Alternative_Splicing_Annotation</a></td></tr><tr class=odd><td class=val><a href=\"http://purl.uniprot.org/core/Annotation\" target=\"_other\">http://purl.uniprot.org/core/Annotation</a></td></tr><tr class=even><td class=val><a href=\"http://purl.uniprot.org/core/Beta_Strand_Annotation\" target=\"_other\">http://purl.uniprot.org/core/Beta_Strand_Annotation</a></td></tr><tr class=odd><td class=val><a href=\"http://purl.uniprot.org/core/Binding_Site_Annotation\" target=\"_other\">http://purl.uniprot.org/core/Binding_Site_Annotation</a></td></tr><tr class=even><td class=val><a href=\"http://purl.uniprot.org/core/Biotechnology_Annotation\" target=\"_other\">http://purl.uniprot.org/core/Biotechnology_Annotation</a></td></tr><tr class=odd><td class=val><a href=\"http://purl.uniprot.org/core/Book_Citation\" target=\"_other\">http://purl.uniprot.org/core/Book_Citation</a></td></tr><tr class=even><td class=val><a href=\"http://purl.uniprot.org/core/Catalytic_Activity_Annotation\" target=\"_other\">http://purl.uniprot.org/core/Catalytic_Activity_Annotation</a></td></tr><tr class=odd><td class=val><a href=\"http://purl.uniprot.org/core/Caution_Annotation\" target=\"_other\">http://purl.uniprot.org/core/Caution_Annotation</a></td></tr><tr class=even><td class=val><a href=\"http://purl.uniprot.org/core/Chain_Annotation\" target=\"_other\">http://purl.uniprot.org/core/Chain_Annotation</a></td></tr><tr class=odd><td class=val><a href=\"http://purl.uniprot.org/core/Citation_Statement\" target=\"_other\">http://purl.uniprot.org/core/Citation_Statement</a></td></tr><tr class=even><td class=val><a href=\"http://purl.uniprot.org/core/Cofactor_Annotation\" target=\"_other\">http://purl.uniprot.org/core/Cofactor_Annotation</a></td></tr><tr class=odd><td class=val><a href=\"http://purl.uniprot.org/core/Coiled_Coil_Annotation\" target=\"_other\">http://purl.uniprot.org/core/Coiled_Coil_Annotation</a></td></tr><tr class=even><td class=val><a href=\"http://purl.uniprot.org/core/Compositional_Bias_Annotation\" target=\"_other\">http://purl.uniprot.org/core/Compositional_Bias_Annotation</a></td></tr><tr class=odd><td class=val><a href=\"http://purl.uniprot.org/core/Cross-link_Annotation\" target=\"_other\">http://purl.uniprot.org/core/Cross-link_Annotation</a></td></tr><tr class=even><td class=val><a href=\"http://purl.uniprot.org/core/Developmental_Stage_Annotation\" target=\"_other\">http://purl.uniprot.org/core/Developmental_Stage_Annotation</a></td></tr><tr class=odd><td class=val><a href=\"http://purl.uniprot.org/core/Disease_Annotation\" target=\"_other\">http://purl.uniprot.org/core/Disease_Annotation</a></td></tr><tr class=even><td class=val><a href=\"http://purl.uniprot.org/core/Disruption_Phenotype_Annotation\" target=\"_other\">http://purl.uniprot.org/core/Disruption_Phenotype_Annotation</a></td></tr><tr class=odd><td class=val><a href=\"http://purl.uniprot.org/core/Disulfide_Bond_Annotation\" target=\"_other\">http://purl.uniprot.org/core/Disulfide_Bond_Annotation</a></td></tr><tr class=even><td class=val><a href=\"http://purl.uniprot.org/core/Domain_Annotation\" target=\"_other\">http://purl.uniprot.org/core/Domain_Annotation</a></td></tr><tr class=odd><td class=val><a href=\"http://purl.uniprot.org/core/Domain_Extent_Annotation\" target=\"_other\">http://purl.uniprot.org/core/Domain_Extent_Annotation</a></td></tr><tr class=even><td class=val><a href=\"http://purl.uniprot.org/core/Electronic_Citation\" target=\"_other\">http://purl.uniprot.org/core/Electronic_Citation</a></td></tr><tr class=odd><td class=val><a href=\"http://purl.uniprot.org/core/Erroneous_Gene_Model_Prediction_Annotation\" target=\"_other\">http://purl.uniprot.org/core/Erroneous_Gene_Model_Prediction_Annotation</a></td></tr><tr class=even><td class=val><a href=\"http://purl.uniprot.org/core/Erroneous_Initiation_Annotation\" target=\"_other\">http://purl.uniprot.org/core/Erroneous_Initiation_Annotation</a></td></tr><tr class=odd><td class=val><a href=\"http://purl.uniprot.org/core/Erroneous_Termination_Annotation\" target=\"_other\">http://purl.uniprot.org/core/Erroneous_Termination_Annotation</a></td></tr><tr class=even><td class=val><a href=\"http://purl.uniprot.org/core/Erroneous_Translation_Annotation\" target=\"_other\">http://purl.uniprot.org/core/Erroneous_Translation_Annotation</a></td></tr><tr class=odd><td class=val><a href=\"http://purl.uniprot.org/core/External_Sequence\" target=\"_other\">http://purl.uniprot.org/core/External_Sequence</a></td></tr><tr class=even><td class=val><a href=\"http://purl.uniprot.org/core/Frameshift_Annotation\" target=\"_other\">http://purl.uniprot.org/core/Frameshift_Annotation</a></td></tr><tr class=odd><td class=val><a href=\"http://purl.uniprot.org/core/Function_Annotation\" target=\"_other\">http://purl.uniprot.org/core/Function_Annotation</a></td></tr><tr class=even><td class=val><a href=\"http://purl.uniprot.org/core/Genomic_DNA\" target=\"_other\">http://purl.uniprot.org/core/Genomic_DNA</a></td></tr><tr class=odd><td class=val><a href=\"http://purl.uniprot.org/core/Genomic_RNA\" target=\"_other\">http://purl.uniprot.org/core/Genomic_RNA</a></td></tr><tr class=even><td class=val><a href=\"http://purl.uniprot.org/core/Glycosylation_Annotation\" target=\"_other\">http://purl.uniprot.org/core/Glycosylation_Annotation</a></td></tr><tr class=odd><td class=val><a href=\"http://purl.uniprot.org/core/Helix_Annotation\" target=\"_other\">http://purl.uniprot.org/core/Helix_Annotation</a></td></tr><tr class=even><td class=val><a href=\"http://purl.uniprot.org/core/Induction_Annotation\" target=\"_other\">http://purl.uniprot.org/core/Induction_Annotation</a></td></tr><tr class=odd><td class=val><a href=\"http://purl.uniprot.org/core/Initiator_Methionine_Annotation\" target=\"_other\">http://purl.uniprot.org/core/Initiator_Methionine_Annotation</a></td></tr><tr class=even><td class=val><a href=\"http://purl.uniprot.org/core/Interaction\" target=\"_other\">http://purl.uniprot.org/core/Interaction</a></td></tr><tr class=odd><td class=val><a href=\"http://purl.uniprot.org/core/Intramembrane_Annotation\" target=\"_other\">http://purl.uniprot.org/core/Intramembrane_Annotation</a></td></tr><tr class=even><td class=val><a href=\"http://purl.uniprot.org/core/Journal_Citation\" target=\"_other\">http://purl.uniprot.org/core/Journal_Citation</a></td></tr><tr class=odd><td class=val><a href=\"http://purl.uniprot.org/core/Kinetics_Annotation\" target=\"_other\">http://purl.uniprot.org/core/Kinetics_Annotation</a></td></tr><tr class=even><td class=val><a href=\"http://purl.uniprot.org/core/Lipidation_Annotation\" target=\"_other\">http://purl.uniprot.org/core/Lipidation_Annotation</a></td></tr><tr class=odd><td class=val><a href=\"http://purl.uniprot.org/core/MRNA\" target=\"_other\">http://purl.uniprot.org/core/MRNA</a></td></tr><tr class=even><td class=val><a href=\"http://purl.uniprot.org/core/Mass_Measurement_Method\" target=\"_other\">http://purl.uniprot.org/core/Mass_Measurement_Method</a></td></tr><tr class=odd><td class=val><a href=\"http://purl.uniprot.org/core/Mass_Spectrometry_Annotation\" target=\"_other\">http://purl.uniprot.org/core/Mass_Spectrometry_Annotation</a></td></tr><tr class=even><td class=val><a href=\"http://purl.uniprot.org/core/Member_Of_Redudant_Proteome\" target=\"_other\">http://purl.uniprot.org/core/Member_Of_Redudant_Proteome</a></td></tr><tr class=odd><td class=val><a href=\"http://purl.uniprot.org/core/Modified_Residue_Annotation\" target=\"_other\">http://purl.uniprot.org/core/Modified_Residue_Annotation</a></td></tr><tr class=even><td class=val><a href=\"http://purl.uniprot.org/core/Modified_Sequence\" target=\"_other\">http://purl.uniprot.org/core/Modified_Sequence</a></td></tr><tr class=odd><td class=val><a href=\"http://purl.uniprot.org/core/Motif_Annotation\" target=\"_other\">http://purl.uniprot.org/core/Motif_Annotation</a></td></tr><tr class=even><td class=val><a href=\"http://purl.uniprot.org/core/Mutagenesis_Annotation\" target=\"_other\">http://purl.uniprot.org/core/Mutagenesis_Annotation</a></td></tr><tr class=odd><td class=val><a href=\"http://purl.uniprot.org/core/Natural_Variant_Annotation\" target=\"_other\">http://purl.uniprot.org/core/Natural_Variant_Annotation</a></td></tr><tr class=even><td class=val><a href=\"http://purl.uniprot.org/core/Non-adjacent_Residues_Annotation\" target=\"_other\">http://purl.uniprot.org/core/Non-adjacent_Residues_Annotation</a></td></tr><tr class=odd><td class=val><a href=\"http://purl.uniprot.org/core/Non-standard_Residue_Annotation\" target=\"_other\">http://purl.uniprot.org/core/Non-standard_Residue_Annotation</a></td></tr><tr class=even><td class=val><a href=\"http://purl.uniprot.org/core/Non-terminal_Residue_Annotation\" target=\"_other\">http://purl.uniprot.org/core/Non-terminal_Residue_Annotation</a></td></tr><tr class=odd><td class=val><a href=\"http://purl.uniprot.org/core/Non_Self_Interaction\" target=\"_other\">http://purl.uniprot.org/core/Non_Self_Interaction</a></td></tr><tr class=even><td class=val><a href=\"http://purl.uniprot.org/core/Nucleotide_Binding_Annotation\" target=\"_other\">http://purl.uniprot.org/core/Nucleotide_Binding_Annotation</a></td></tr><tr class=odd><td class=val><a href=\"http://purl.uniprot.org/core/Nucleotide_Resource\" target=\"_other\">http://purl.uniprot.org/core/Nucleotide_Resource</a></td></tr><tr class=even><td class=val><a href=\"http://purl.uniprot.org/core/Observation_Citation\" target=\"_other\">http://purl.uniprot.org/core/Observation_Citation</a></td></tr><tr class=odd><td class=val><a href=\"http://purl.uniprot.org/core/Organelle\" target=\"_other\">http://purl.uniprot.org/core/Organelle</a></td></tr><tr class=even><td class=val><a href=\"http://purl.uniprot.org/core/Other_DNA\" target=\"_other\">http://purl.uniprot.org/core/Other_DNA</a></td></tr><tr class=odd><td class=val><a href=\"http://purl.uniprot.org/core/Other_RNA\" target=\"_other\">http://purl.uniprot.org/core/Other_RNA</a></td></tr><tr class=even><td class=val><a href=\"http://purl.uniprot.org/core/PH_Dependence_Annotation\" target=\"_other\">http://purl.uniprot.org/core/PH_Dependence_Annotation</a></td></tr><tr class=odd><td class=val><a href=\"http://purl.uniprot.org/core/PTM_Annotation\" target=\"_other\">http://purl.uniprot.org/core/PTM_Annotation</a></td></tr><tr class=even><td class=val><a href=\"http://purl.uniprot.org/core/Part\" target=\"_other\">http://purl.uniprot.org/core/Part</a></td></tr><tr class=odd><td class=val><a href=\"http://purl.uniprot.org/core/Participant\" target=\"_other\">http://purl.uniprot.org/core/Participant</a></td></tr><tr class=even><td class=val><a href=\"http://purl.uniprot.org/core/Patent_Citation\" target=\"_other\">http://purl.uniprot.org/core/Patent_Citation</a></td></tr><tr class=odd><td class=val><a href=\"http://purl.uniprot.org/core/Pathway_Annotation\" target=\"_other\">http://purl.uniprot.org/core/Pathway_Annotation</a></td></tr><tr class=even><td class=val><a href=\"http://purl.uniprot.org/core/Peptide_Annotation\" target=\"_other\">http://purl.uniprot.org/core/Peptide_Annotation</a></td></tr><tr class=odd><td class=val><a href=\"http://purl.uniprot.org/core/Pharmaceutical_Annotation\" target=\"_other\">http://purl.uniprot.org/core/Pharmaceutical_Annotation</a></td></tr><tr class=even><td class=val><a href=\"http://purl.uniprot.org/core/Plasmid\" target=\"_other\">http://purl.uniprot.org/core/Plasmid</a></td></tr><tr class=odd><td class=val><a href=\"http://purl.uniprot.org/core/Polymorphism_Annotation\" target=\"_other\">http://purl.uniprot.org/core/Polymorphism_Annotation</a></td></tr><tr class=even><td class=val><a href=\"http://purl.uniprot.org/core/Propeptide_Annotation\" target=\"_other\">http://purl.uniprot.org/core/Propeptide_Annotation</a></td></tr><tr class=odd><td class=val><a href=\"http://purl.uniprot.org/core/Protein\" target=\"_other\">http://purl.uniprot.org/core/Protein</a></td></tr><tr class=even><td class=val><a href=\"http://purl.uniprot.org/core/Protein_Existence\" target=\"_other\">http://purl.uniprot.org/core/Protein_Existence</a></td></tr><tr class=odd><td class=val><a href=\"http://purl.uniprot.org/core/Proteome\" target=\"_other\">http://purl.uniprot.org/core/Proteome</a></td></tr><tr class=even><td class=val><a href=\"http://purl.uniprot.org/core/Proteome_Component\" target=\"_other\">http://purl.uniprot.org/core/Proteome_Component</a></td></tr><tr class=odd><td class=val><a href=\"http://purl.uniprot.org/core/RNA_Editing_Annotation\" target=\"_other\">http://purl.uniprot.org/core/RNA_Editing_Annotation</a></td></tr><tr class=even><td class=val><a href=\"http://purl.uniprot.org/core/Rank\" target=\"_other\">http://purl.uniprot.org/core/Rank</a></td></tr><tr class=odd><td class=val><a href=\"http://purl.uniprot.org/core/Redox_Potential_Annotation\" target=\"_other\">http://purl.uniprot.org/core/Redox_Potential_Annotation</a></td></tr><tr class=even><td class=val><a href=\"http://purl.uniprot.org/core/Reference_Proteome\" target=\"_other\">http://purl.uniprot.org/core/Reference_Proteome</a></td></tr><tr class=odd><td class=val><a href=\"http://purl.uniprot.org/core/Region_Annotation\" target=\"_other\">http://purl.uniprot.org/core/Region_Annotation</a></td></tr><tr class=even><td class=val><a href=\"http://purl.uniprot.org/core/Repeat_Annotation\" target=\"_other\">http://purl.uniprot.org/core/Repeat_Annotation</a></td></tr><tr class=odd><td class=val><a href=\"http://purl.uniprot.org/core/Representative_Proteome\" target=\"_other\">http://purl.uniprot.org/core/Representative_Proteome</a></td></tr><tr class=even><td class=val><a href=\"http://purl.uniprot.org/core/Resource\" target=\"_other\">http://purl.uniprot.org/core/Resource</a></td></tr><tr class=odd><td class=val><a href=\"http://purl.uniprot.org/core/Ribosomal_Frameshifting\" target=\"_other\">http://purl.uniprot.org/core/Ribosomal_Frameshifting</a></td></tr><tr class=even><td class=val><a href=\"http://purl.uniprot.org/core/Self_Interaction\" target=\"_other\">http://purl.uniprot.org/core/Self_Interaction</a></td></tr><tr class=odd><td class=val><a href=\"http://purl.uniprot.org/core/Sequence_Caution_Annotation\" target=\"_other\">http://purl.uniprot.org/core/Sequence_Caution_Annotation</a></td></tr><tr class=even><td class=val><a href=\"http://purl.uniprot.org/core/Sequence_Conflict_Annotation\" target=\"_other\">http://purl.uniprot.org/core/Sequence_Conflict_Annotation</a></td></tr><tr class=odd><td class=val><a href=\"http://purl.uniprot.org/core/Sequence_Uncertainty_Annotation\" target=\"_other\">http://purl.uniprot.org/core/Sequence_Uncertainty_Annotation</a></td></tr><tr class=even><td class=val><a href=\"http://purl.uniprot.org/core/Signal_Peptide_Annotation\" target=\"_other\">http://purl.uniprot.org/core/Signal_Peptide_Annotation</a></td></tr><tr class=odd><td class=val><a href=\"http://purl.uniprot.org/core/Similarity_Annotation\" target=\"_other\">http://purl.uniprot.org/core/Similarity_Annotation</a></td></tr><tr class=even><td class=val><a href=\"http://purl.uniprot.org/core/Simple_Sequence\" target=\"_other\">http://purl.uniprot.org/core/Simple_Sequence</a></td></tr><tr class=odd><td class=val><a href=\"http://purl.uniprot.org/core/Site_Annotation\" target=\"_other\">http://purl.uniprot.org/core/Site_Annotation</a></td></tr><tr class=even><td class=val><a href=\"http://purl.uniprot.org/core/Status\" target=\"_other\">http://purl.uniprot.org/core/Status</a></td></tr><tr class=odd><td class=val><a href=\"http://purl.uniprot.org/core/Structure_Determination_Method\" target=\"_other\">http://purl.uniprot.org/core/Structure_Determination_Method</a></td></tr><tr class=even><td class=val><a href=\"http://purl.uniprot.org/core/Structure_Resource\" target=\"_other\">http://purl.uniprot.org/core/Structure_Resource</a></td></tr><tr class=odd><td class=val><a href=\"http://purl.uniprot.org/core/Subcellular_Location_Annotation\" target=\"_other\">http://purl.uniprot.org/core/Subcellular_Location_Annotation</a></td></tr><tr class=even><td class=val><a href=\"http://purl.uniprot.org/core/Submission_Citation\" target=\"_other\">http://purl.uniprot.org/core/Submission_Citation</a></td></tr><tr class=odd><td class=val><a href=\"http://purl.uniprot.org/core/Subunit_Annotation\" target=\"_other\">http://purl.uniprot.org/core/Subunit_Annotation</a></td></tr><tr class=even><td class=val><a href=\"http://purl.uniprot.org/core/Temperature_Dependence_Annotation\" target=\"_other\">http://purl.uniprot.org/core/Temperature_Dependence_Annotation</a></td></tr><tr class=odd><td class=val><a href=\"http://purl.uniprot.org/core/Thesis_Citation\" target=\"_other\">http://purl.uniprot.org/core/Thesis_Citation</a></td></tr><tr class=even><td class=val><a href=\"http://purl.uniprot.org/core/Tissue\" target=\"_other\">http://purl.uniprot.org/core/Tissue</a></td></tr><tr class=odd><td class=val><a href=\"http://purl.uniprot.org/core/Tissue_Specificity_Annotation\" target=\"_other\">http://purl.uniprot.org/core/Tissue_Specificity_Annotation</a></td></tr><tr class=even><td class=val><a href=\"http://purl.uniprot.org/core/Topological_Domain_Annotation\" target=\"_other\">http://purl.uniprot.org/core/Topological_Domain_Annotation</a></td></tr><tr class=odd><td class=val><a href=\"http://purl.uniprot.org/core/Toxic_Dose_Annotation\" target=\"_other\">http://purl.uniprot.org/core/Toxic_Dose_Annotation</a></td></tr><tr class=even><td class=val><a href=\"http://purl.uniprot.org/core/Transcribed_RNA\" target=\"_other\">http://purl.uniprot.org/core/Transcribed_RNA</a></td></tr><tr class=odd><td class=val><a href=\"http://purl.uniprot.org/core/Transcript_Resource\" target=\"_other\">http://purl.uniprot.org/core/Transcript_Resource</a></td></tr><tr class=even><td class=val><a href=\"http://purl.uniprot.org/core/Transit_Peptide_Annotation\" target=\"_other\">http://purl.uniprot.org/core/Transit_Peptide_Annotation</a></td></tr><tr class=odd><td class=val><a href=\"http://purl.uniprot.org/core/Transmembrane_Annotation\" target=\"_other\">http://purl.uniprot.org/core/Transmembrane_Annotation</a></td></tr><tr class=even><td class=val><a href=\"http://purl.uniprot.org/core/Transposon\" target=\"_other\">http://purl.uniprot.org/core/Transposon</a></td></tr><tr class=odd><td class=val><a href=\"http://purl.uniprot.org/core/Turn_Annotation\" target=\"_other\">http://purl.uniprot.org/core/Turn_Annotation</a></td></tr><tr class=even><td class=val><a href=\"http://purl.uniprot.org/core/Unassigned_DNA\" target=\"_other\">http://purl.uniprot.org/core/Unassigned_DNA</a></td></tr><tr class=odd><td class=val><a href=\"http://purl.uniprot.org/core/Unassigned_RNA\" target=\"_other\">http://purl.uniprot.org/core/Unassigned_RNA</a></td></tr><tr class=even><td class=val><a href=\"http://purl.uniprot.org/core/Unknown_Sequence\" target=\"_other\">http://purl.uniprot.org/core/Unknown_Sequence</a></td></tr><tr class=odd><td class=val><a href=\"http://purl.uniprot.org/core/Viral_cRNA\" target=\"_other\">http://purl.uniprot.org/core/Viral_cRNA</a></td></tr><tr class=even><td class=val><a href=\"http://purl.uniprot.org/core/Zinc_Finger_Annotation\" target=\"_other\">http://purl.uniprot.org/core/Zinc_Finger_Annotation</a></td></tr><tr class=odd><td class=val><a href=\"http://purl.obolibrary.org/obo/STATO_0000193\" target=\"_other\">http://purl.obolibrary.org/obo/STATO_0000193</a></td></tr><tr class=even><td class=val><a href=\"http://biohackathon.org/resource/faldo#ExactPosition\" target=\"_other\">http://biohackathon.org/resource/faldo#ExactPosition</a></td></tr><tr class=odd><td class=val><a href=\"http://biohackathon.org/resource/faldo#Position\" target=\"_other\">http://biohackathon.org/resource/faldo#Position</a></td></tr><tr class=even><td class=val><a href=\"http://biohackathon.org/resource/faldo#Region\" target=\"_other\">http://biohackathon.org/resource/faldo#Region</a></td></tr><tr class=odd><td class=val><a href=\"http://biohackathon.org/resource/faldo#OneOfPosition\" target=\"_other\">http://biohackathon.org/resource/faldo#OneOfPosition</a></td></tr><tr class=even><td class=val><a href=\"http://www.w3.org/ns/sparql-service-description#Dataset\" target=\"_other\">http://www.w3.org/ns/sparql-service-description#Dataset</a></td></tr><tr class=odd><td class=val><a href=\"http://www.w3.org/ns/sparql-service-description#Graph\" target=\"_other\">http://www.w3.org/ns/sparql-service-description#Graph</a></td></tr></table><div class=\"tinfo\">Total: 163, Shown: 163</div></div>"
      ]
     },
     "metadata": {},
     "output_type": "display_data"
    }
   ],
   "source": [
    "SELECT DISTINCT ?type\n",
    "WHERE {\n",
    "    ?s    a    ?type\n",
    "}"
   ]
  },
  {
   "cell_type": "markdown",
   "id": "593b2fd3",
   "metadata": {},
   "source": [
    "We can see a type protein, which I can use for the first question."
   ]
  },
  {
   "cell_type": "markdown",
   "id": "b069e1a6",
   "metadata": {},
   "source": [
    "### Q1: How many protein records are in UniProt? "
   ]
  },
  {
   "cell_type": "code",
   "execution_count": 50,
   "id": "d55d872d",
   "metadata": {
    "scrolled": true
   },
   "outputs": [
    {
     "data": {
      "text/html": [
       "<div class=\"krn-spql\"><table><tr class=hdr><th>Total</th></tr><tr class=odd><td class=val>378979161</td></tr></table><div class=\"tinfo\">Total: 1, Shown: 1</div></div>"
      ]
     },
     "metadata": {},
     "output_type": "display_data"
    }
   ],
   "source": [
    "PREFIX core:<http://purl.uniprot.org/core/> \n",
    "\n",
    "SELECT (COUNT(?protein) AS ?Total)\n",
    "WHERE{ \n",
    "    ?protein    a    core:Protein .\n",
    "}"
   ]
  },
  {
   "cell_type": "markdown",
   "id": "fd3cde4b",
   "metadata": {},
   "source": [
    "### Q2: How many Arabidopsis thaliana protein records are in UniProt? "
   ]
  },
  {
   "cell_type": "markdown",
   "id": "388b0c65",
   "metadata": {},
   "source": [
    "To retrieve Arabidopsis thaliana proteins, first we need the predicate that links proteins with the taxon. The taxonomy prefix was obtained from the sparql.uniprot query examples."
   ]
  },
  {
   "cell_type": "code",
   "execution_count": 51,
   "id": "196bbe34",
   "metadata": {},
   "outputs": [
    {
     "data": {
      "text/html": [
       "<div class=\"krn-spql\"><table><tr class=hdr><th>property</th></tr><tr class=odd><td class=val><a href=\"http://purl.uniprot.org/core/organism\" target=\"_other\">http://purl.uniprot.org/core/organism</a></td></tr></table><div class=\"tinfo\">Total: 1, Shown: 1</div></div>"
      ]
     },
     "metadata": {},
     "output_type": "display_data"
    }
   ],
   "source": [
    "PREFIX core:<http://purl.uniprot.org/core/> \n",
    "PREFIX taxonomy:<http://purl.uniprot.org/taxonomy/>\n",
    "\n",
    "SELECT DISTINCT ?property\n",
    "WHERE{ \n",
    "    ?protein    a    core:Protein .            \n",
    "    ?protein    ?property    taxonomy:3702 .  # Arabidopsis thaliana has taxa id 3702\n",
    "}"
   ]
  },
  {
   "cell_type": "code",
   "execution_count": 52,
   "id": "e7f932f5",
   "metadata": {},
   "outputs": [
    {
     "data": {
      "text/html": [
       "<div class=\"krn-spql\"><table><tr class=hdr><th>Total</th></tr><tr class=odd><td class=val>136447</td></tr></table><div class=\"tinfo\">Total: 1, Shown: 1</div></div>"
      ]
     },
     "metadata": {},
     "output_type": "display_data"
    }
   ],
   "source": [
    "PREFIX core:<http://purl.uniprot.org/core/> \n",
    "PREFIX taxonomy:<http://purl.uniprot.org/taxonomy/>\n",
    "\n",
    "SELECT (COUNT(DISTINCT ?protein) AS ?Total)\n",
    "WHERE{ \n",
    "    ?protein    a    core:Protein .            \n",
    "    ?protein    core:organism    taxonomy:3702 . \n",
    "}"
   ]
  },
  {
   "cell_type": "markdown",
   "id": "f806bf55",
   "metadata": {},
   "source": [
    "### Q3: retrieve pictures of Arabidopsis thaliana from UniProt? "
   ]
  },
  {
   "cell_type": "code",
   "execution_count": 53,
   "id": "82bb4247",
   "metadata": {},
   "outputs": [
    {
     "data": {
      "text/html": [
       "<div class=\"krn-spql\"><table><tr class=hdr><th>name</th>\n",
       "<th>image</th></tr><tr class=odd><td class=val>Arabidopsis thaliana</td>\n",
       "<td class=val><a href=\"https://upload.wikimedia.org/wikipedia/commons/3/39/Arabidopsis.jpg\" target=\"_other\">https://upload.wikimedia.org/wikipedia/commons/3/39/Arabidopsis.jpg</a></td></tr><tr class=even><td class=val>Arabidopsis thaliana</td>\n",
       "<td class=val><a href=\"https://upload.wikimedia.org/wikipedia/commons/thumb/6/60/Arabidopsis_thaliana_inflorescencias.jpg/800px-Arabidopsis_thaliana_inflorescencias.jpg\" target=\"_other\">https://upload.wikimedia.org/wikipedia/commons/thumb/6/60/Arabidopsis_thaliana_inflorescencias.jpg/800px-Arabidopsis_thaliana_inflorescencias.jpg</a></td></tr></table><div class=\"tinfo\">Total: 2, Shown: 2</div></div>"
      ]
     },
     "metadata": {},
     "output_type": "display_data"
    }
   ],
   "source": [
    "PREFIX up:<http://purl.uniprot.org/core/> \n",
    "PREFIX foaf:<http://xmlns.com/foaf/0.1/>\n",
    "\n",
    "SELECT ?name ?image\n",
    "WHERE {\n",
    "    ?taxon    foaf:depiction    ?image .\n",
    "    ?taxon    up:scientificName    ?name .\n",
    "    FILTER(CONTAINS(?name, \"Arabidopsis thaliana\"))\n",
    "} LIMIT 10"
   ]
  },
  {
   "cell_type": "markdown",
   "id": "9bed783a",
   "metadata": {},
   "source": [
    "### Q4: What is the description of the enzyme activity of UniProt Protein Q9SZZ8 "
   ]
  },
  {
   "cell_type": "markdown",
   "id": "ae2d5dfc",
   "metadata": {},
   "source": [
    "We can use the core:enzyme from the exploration done in the first step.\n",
    "\n",
    "First I retrieve the predicate of the enzime."
   ]
  },
  {
   "cell_type": "code",
   "execution_count": 54,
   "id": "a897af46",
   "metadata": {},
   "outputs": [
    {
     "data": {
      "text/html": [
       "<div class=\"krn-spql\"><table><tr class=hdr><th>property</th></tr><tr class=odd><td class=val><a href=\"http://www.w3.org/1999/02/22-rdf-syntax-ns#type\" target=\"_other\">http://www.w3.org/1999/02/22-rdf-syntax-ns#type</a></td></tr><tr class=even><td class=val><a href=\"http://www.w3.org/2000/01/rdf-schema#subClassOf\" target=\"_other\">http://www.w3.org/2000/01/rdf-schema#subClassOf</a></td></tr><tr class=odd><td class=val><a href=\"http://www.w3.org/2004/02/skos/core#prefLabel\" target=\"_other\">http://www.w3.org/2004/02/skos/core#prefLabel</a></td></tr><tr class=even><td class=val><a href=\"http://www.w3.org/2004/02/skos/core#altLabel\" target=\"_other\">http://www.w3.org/2004/02/skos/core#altLabel</a></td></tr><tr class=odd><td class=val><a href=\"http://www.w3.org/2000/01/rdf-schema#comment\" target=\"_other\">http://www.w3.org/2000/01/rdf-schema#comment</a></td></tr><tr class=even><td class=val><a href=\"http://purl.uniprot.org/core/citation\" target=\"_other\">http://purl.uniprot.org/core/citation</a></td></tr><tr class=odd><td class=val><a href=\"http://purl.uniprot.org/core/replaces\" target=\"_other\">http://purl.uniprot.org/core/replaces</a></td></tr><tr class=even><td class=val><a href=\"http://purl.uniprot.org/core/activity\" target=\"_other\">http://purl.uniprot.org/core/activity</a></td></tr><tr class=odd><td class=val><a href=\"http://www.w3.org/2004/02/skos/core#broaderTransitive\" target=\"_other\">http://www.w3.org/2004/02/skos/core#broaderTransitive</a></td></tr></table><div class=\"tinfo\">Total: 9, Shown: 9</div></div>"
      ]
     },
     "metadata": {},
     "output_type": "display_data"
    }
   ],
   "source": [
    "PREFIX core:<http://purl.uniprot.org/core/> \n",
    "PREFIX uniprot:<http://purl.uniprot.org/uniprot/> \n",
    "\n",
    "SELECT DISTINCT ?property\n",
    "WHERE {\n",
    "    uniprot:Q9SZZ8    a    core:Protein ;          \n",
    "                      core:enzyme    ?enzyme .\n",
    "    ?enzyme    ?property    ?activity  \n",
    "}"
   ]
  },
  {
   "cell_type": "markdown",
   "id": "27d40061",
   "metadata": {},
   "source": [
    "Now I can use the activity predicate to search the description label."
   ]
  },
  {
   "cell_type": "code",
   "execution_count": 55,
   "id": "a1714324",
   "metadata": {},
   "outputs": [
    {
     "data": {
      "text/html": [
       "<div class=\"krn-spql\"><table><tr class=hdr><th>description</th></tr><tr class=odd><td class=val>all-trans-beta-carotene + 4 H(+) + 2 O2 + 4 reduced [2Fe-2S]-[ferredoxin] = all-trans-zeaxanthin + 2 H2O + 4 oxidized [2Fe-2S]-[ferredoxin].</td></tr></table><div class=\"tinfo\">Total: 1, Shown: 1</div></div>"
      ]
     },
     "metadata": {},
     "output_type": "display_data"
    }
   ],
   "source": [
    "PREFIX core:<http://purl.uniprot.org/core/> \n",
    "PREFIX uniprot:<http://purl.uniprot.org/uniprot/> \n",
    "\n",
    "SELECT ?description\n",
    "WHERE {\n",
    "    uniprot:Q9SZZ8    a    core:Protein ;         \n",
    "                      core:enzyme    ?enzyme .   \n",
    "    ?enzyme    core:activity    ?activity .       \n",
    "    ?activity    rdfs:label    ?description        \n",
    "}"
   ]
  },
  {
   "cell_type": "markdown",
   "id": "6b438c8a",
   "metadata": {},
   "source": [
    "### Q5: Retrieve the proteins ids, and date of submission, for 5 proteins that have been added to UniProt this year   (HINT Google for “SPARQL FILTER by date”)\n"
   ]
  },
  {
   "cell_type": "code",
   "execution_count": 56,
   "id": "a3decf96",
   "metadata": {},
   "outputs": [
    {
     "data": {
      "text/html": [
       "<div class=\"krn-spql\"><table><tr class=hdr><th>property</th></tr><tr class=odd><td class=val><a href=\"http://www.w3.org/1999/02/22-rdf-syntax-ns#type\" target=\"_other\">http://www.w3.org/1999/02/22-rdf-syntax-ns#type</a></td></tr><tr class=even><td class=val><a href=\"http://www.w3.org/2000/01/rdf-schema#label\" target=\"_other\">http://www.w3.org/2000/01/rdf-schema#label</a></td></tr><tr class=odd><td class=val><a href=\"http://www.w3.org/2000/01/rdf-schema#seeAlso\" target=\"_other\">http://www.w3.org/2000/01/rdf-schema#seeAlso</a></td></tr><tr class=even><td class=val><a href=\"http://purl.uniprot.org/core/citation\" target=\"_other\">http://purl.uniprot.org/core/citation</a></td></tr><tr class=odd><td class=val><a href=\"http://purl.uniprot.org/core/mnemonic\" target=\"_other\">http://purl.uniprot.org/core/mnemonic</a></td></tr><tr class=even><td class=val><a href=\"http://purl.uniprot.org/core/replaces\" target=\"_other\">http://purl.uniprot.org/core/replaces</a></td></tr><tr class=odd><td class=val><a href=\"http://purl.uniprot.org/core/obsolete\" target=\"_other\">http://purl.uniprot.org/core/obsolete</a></td></tr><tr class=even><td class=val><a href=\"http://purl.uniprot.org/core/replacedBy\" target=\"_other\">http://purl.uniprot.org/core/replacedBy</a></td></tr><tr class=odd><td class=val><a href=\"http://purl.uniprot.org/core/reviewed\" target=\"_other\">http://purl.uniprot.org/core/reviewed</a></td></tr><tr class=even><td class=val><a href=\"http://purl.uniprot.org/core/created\" target=\"_other\">http://purl.uniprot.org/core/created</a></td></tr><tr class=odd><td class=val><a href=\"http://purl.uniprot.org/core/encodedBy\" target=\"_other\">http://purl.uniprot.org/core/encodedBy</a></td></tr><tr class=even><td class=val><a href=\"http://purl.uniprot.org/core/modified\" target=\"_other\">http://purl.uniprot.org/core/modified</a></td></tr><tr class=odd><td class=val><a href=\"http://purl.uniprot.org/core/organism\" target=\"_other\">http://purl.uniprot.org/core/organism</a></td></tr><tr class=even><td class=val><a href=\"http://purl.uniprot.org/core/proteome\" target=\"_other\">http://purl.uniprot.org/core/proteome</a></td></tr><tr class=odd><td class=val><a href=\"http://purl.uniprot.org/core/reportedVersion\" target=\"_other\">http://purl.uniprot.org/core/reportedVersion</a></td></tr><tr class=even><td class=val><a href=\"http://purl.uniprot.org/core/version\" target=\"_other\">http://purl.uniprot.org/core/version</a></td></tr><tr class=odd><td class=val><a href=\"http://purl.uniprot.org/core/representativeFor\" target=\"_other\">http://purl.uniprot.org/core/representativeFor</a></td></tr><tr class=even><td class=val><a href=\"http://purl.uniprot.org/core/seedFor\" target=\"_other\">http://purl.uniprot.org/core/seedFor</a></td></tr><tr class=odd><td class=val><a href=\"http://purl.uniprot.org/core/alternativeName\" target=\"_other\">http://purl.uniprot.org/core/alternativeName</a></td></tr><tr class=even><td class=val><a href=\"http://purl.uniprot.org/core/annotation\" target=\"_other\">http://purl.uniprot.org/core/annotation</a></td></tr><tr class=odd><td class=val><a href=\"http://purl.uniprot.org/core/attribution\" target=\"_other\">http://purl.uniprot.org/core/attribution</a></td></tr><tr class=even><td class=val><a href=\"http://purl.uniprot.org/core/classifiedWith\" target=\"_other\">http://purl.uniprot.org/core/classifiedWith</a></td></tr><tr class=odd><td class=val><a href=\"http://purl.uniprot.org/core/component\" target=\"_other\">http://purl.uniprot.org/core/component</a></td></tr><tr class=even><td class=val><a href=\"http://purl.uniprot.org/core/encodedIn\" target=\"_other\">http://purl.uniprot.org/core/encodedIn</a></td></tr><tr class=odd><td class=val><a href=\"http://purl.uniprot.org/core/enzyme\" target=\"_other\">http://purl.uniprot.org/core/enzyme</a></td></tr><tr class=even><td class=val><a href=\"http://purl.uniprot.org/core/existence\" target=\"_other\">http://purl.uniprot.org/core/existence</a></td></tr><tr class=odd><td class=val><a href=\"http://purl.uniprot.org/core/isolatedFrom\" target=\"_other\">http://purl.uniprot.org/core/isolatedFrom</a></td></tr><tr class=even><td class=val><a href=\"http://purl.uniprot.org/core/mappedAnnotation\" target=\"_other\">http://purl.uniprot.org/core/mappedAnnotation</a></td></tr><tr class=odd><td class=val><a href=\"http://purl.uniprot.org/core/mappedCitation\" target=\"_other\">http://purl.uniprot.org/core/mappedCitation</a></td></tr><tr class=even><td class=val><a href=\"http://purl.uniprot.org/core/potentialSequence\" target=\"_other\">http://purl.uniprot.org/core/potentialSequence</a></td></tr></table><div class=\"tinfo\">Total: 30, Shown: 30</div></div>"
      ]
     },
     "metadata": {},
     "output_type": "display_data"
    }
   ],
   "source": [
    "PREFIX core:<http://purl.uniprot.org/core/> \n",
    "\n",
    "SELECT DISTINCT ?property\n",
    "WHERE {\n",
    "    ?protein    a    core:Protein .\n",
    "    ?protein    ?property    ?id\n",
    "} LIMIT 30"
   ]
  },
  {
   "cell_type": "code",
   "execution_count": 57,
   "id": "1d0c9ca5",
   "metadata": {
    "scrolled": true
   },
   "outputs": [
    {
     "data": {
      "text/html": [
       "<div class=\"krn-spql\"><table><tr class=hdr><th>id</th>\n",
       "<th>date</th></tr><tr class=odd><td class=val>A0A8E0N8L5_ECOLX</td>\n",
       "<td class=val>2022-01-19</td></tr><tr class=even><td class=val>A0A8F9CQZ7_ECOLX</td>\n",
       "<td class=val>2022-01-19</td></tr><tr class=odd><td class=val>A0A8F9ICG9_ECOLX</td>\n",
       "<td class=val>2022-01-19</td></tr><tr class=even><td class=val>A0A8F8WH98_PSEAI</td>\n",
       "<td class=val>2022-01-19</td></tr><tr class=odd><td class=val>A0A8F9NZK3_PSEAI</td>\n",
       "<td class=val>2022-01-19</td></tr></table><div class=\"tinfo\">Total: 5, Shown: 5</div></div>"
      ]
     },
     "metadata": {},
     "output_type": "display_data"
    }
   ],
   "source": [
    "PREFIX core:<http://purl.uniprot.org/core/> \n",
    "\n",
    "SELECT DISTINCT ?id ?date\n",
    "WHERE{\n",
    "    ?protein    a    core:Protein .             \n",
    "    ?protein    core:mnemonic    ?id .          \n",
    "    ?protein    core:created    ?date .         \n",
    "    FILTER (contains(STR(?date), \"2022\")) \n",
    "} LIMIT 5 "
   ]
  },
  {
   "cell_type": "markdown",
   "id": "dc601158",
   "metadata": {},
   "source": [
    "### Q6: How  many species are in the UniProt taxonomy?"
   ]
  },
  {
   "cell_type": "markdown",
   "id": "ae1808f5",
   "metadata": {},
   "source": [
    "First we search what predicates has the resource Taxon found in the first exploration."
   ]
  },
  {
   "cell_type": "code",
   "execution_count": 58,
   "id": "7ca544e1",
   "metadata": {
    "scrolled": true
   },
   "outputs": [
    {
     "data": {
      "text/html": [
       "<div class=\"krn-spql\"><table><tr class=hdr><th>predicate</th></tr><tr class=odd><td class=val><a href=\"http://www.w3.org/1999/02/22-rdf-syntax-ns#type\" target=\"_other\">http://www.w3.org/1999/02/22-rdf-syntax-ns#type</a></td></tr><tr class=even><td class=val><a href=\"http://www.w3.org/2000/01/rdf-schema#subClassOf\" target=\"_other\">http://www.w3.org/2000/01/rdf-schema#subClassOf</a></td></tr><tr class=odd><td class=val><a href=\"http://www.w3.org/2000/01/rdf-schema#seeAlso\" target=\"_other\">http://www.w3.org/2000/01/rdf-schema#seeAlso</a></td></tr><tr class=even><td class=val><a href=\"http://www.w3.org/2004/02/skos/core#narrowerTransitive\" target=\"_other\">http://www.w3.org/2004/02/skos/core#narrowerTransitive</a></td></tr><tr class=odd><td class=val><a href=\"http://purl.uniprot.org/core/commonName\" target=\"_other\">http://purl.uniprot.org/core/commonName</a></td></tr><tr class=even><td class=val><a href=\"http://purl.uniprot.org/core/mnemonic\" target=\"_other\">http://purl.uniprot.org/core/mnemonic</a></td></tr><tr class=odd><td class=val><a href=\"http://purl.uniprot.org/core/otherName\" target=\"_other\">http://purl.uniprot.org/core/otherName</a></td></tr><tr class=even><td class=val><a href=\"http://purl.uniprot.org/core/partOfLineage\" target=\"_other\">http://purl.uniprot.org/core/partOfLineage</a></td></tr><tr class=odd><td class=val><a href=\"http://purl.uniprot.org/core/rank\" target=\"_other\">http://purl.uniprot.org/core/rank</a></td></tr><tr class=even><td class=val><a href=\"http://purl.uniprot.org/core/replaces\" target=\"_other\">http://purl.uniprot.org/core/replaces</a></td></tr></table><div class=\"tinfo\">Total: 10, Shown: 10</div></div>"
      ]
     },
     "metadata": {},
     "output_type": "display_data"
    }
   ],
   "source": [
    "PREFIX core:<http://purl.uniprot.org/core/> \n",
    "\n",
    "SELECT DISTINCT ?predicate\n",
    "WHERE{\n",
    "  ?taxon a core:Taxon .             \n",
    "  ?taxon ?predicate ?species\n",
    "} LIMIT 10 "
   ]
  },
  {
   "cell_type": "markdown",
   "id": "9e093eb6",
   "metadata": {},
   "source": [
    "The rank predicate can lead us to the taxon level specie."
   ]
  },
  {
   "cell_type": "code",
   "execution_count": 59,
   "id": "bed5b20e",
   "metadata": {
    "scrolled": true
   },
   "outputs": [
    {
     "data": {
      "text/html": [
       "<div class=\"krn-spql\"><table><tr class=hdr><th>species</th></tr><tr class=odd><td class=val><a href=\"http://purl.uniprot.org/core/Species\" target=\"_other\">http://purl.uniprot.org/core/Species</a></td></tr><tr class=even><td class=val><a href=\"http://purl.uniprot.org/core/Genus\" target=\"_other\">http://purl.uniprot.org/core/Genus</a></td></tr><tr class=odd><td class=val><a href=\"http://purl.uniprot.org/core/Varietas\" target=\"_other\">http://purl.uniprot.org/core/Varietas</a></td></tr><tr class=even><td class=val><a href=\"http://purl.uniprot.org/core/Order\" target=\"_other\">http://purl.uniprot.org/core/Order</a></td></tr><tr class=odd><td class=val><a href=\"http://purl.uniprot.org/core/Family\" target=\"_other\">http://purl.uniprot.org/core/Family</a></td></tr><tr class=even><td class=val><a href=\"http://purl.uniprot.org/core/Subspecies\" target=\"_other\">http://purl.uniprot.org/core/Subspecies</a></td></tr><tr class=odd><td class=val><a href=\"http://purl.uniprot.org/core/Forma\" target=\"_other\">http://purl.uniprot.org/core/Forma</a></td></tr><tr class=even><td class=val><a href=\"http://purl.uniprot.org/core/Species_Subgroup\" target=\"_other\">http://purl.uniprot.org/core/Species_Subgroup</a></td></tr><tr class=odd><td class=val><a href=\"http://purl.uniprot.org/core/Subclass\" target=\"_other\">http://purl.uniprot.org/core/Subclass</a></td></tr><tr class=even><td class=val><a href=\"http://purl.uniprot.org/core/Tribe\" target=\"_other\">http://purl.uniprot.org/core/Tribe</a></td></tr></table><div class=\"tinfo\">Total: 10, Shown: 10</div></div>"
      ]
     },
     "metadata": {},
     "output_type": "display_data"
    }
   ],
   "source": [
    "PREFIX core:<http://purl.uniprot.org/core/> \n",
    "\n",
    "SELECT DISTINCT ?species\n",
    "WHERE{\n",
    "  ?taxon a core:Taxon .             # Select all instances of taxon from uniprot\n",
    "  ?taxon core:rank ?species     # and from them, all taxons with level = species \n",
    "} LIMIT 10"
   ]
  },
  {
   "cell_type": "markdown",
   "id": "c2dad7a2",
   "metadata": {},
   "source": [
    "Finally I use core:Species to retrieve the total number."
   ]
  },
  {
   "cell_type": "code",
   "execution_count": 60,
   "id": "bdbd50f9",
   "metadata": {},
   "outputs": [
    {
     "data": {
      "text/html": [
       "<div class=\"krn-spql\"><table><tr class=hdr><th>Total</th></tr><tr class=odd><td class=val>1995728</td></tr></table><div class=\"tinfo\">Total: 1, Shown: 1</div></div>"
      ]
     },
     "metadata": {},
     "output_type": "display_data"
    }
   ],
   "source": [
    "PREFIX core:<http://purl.uniprot.org/core/> \n",
    "\n",
    "SELECT (COUNT(DISTINCT ?taxon) AS ?Total)\n",
    "WHERE{\n",
    "  ?taxon a core:Taxon .            \n",
    "  ?taxon core:rank core:Species    \n",
    "}"
   ]
  },
  {
   "cell_type": "markdown",
   "id": "7c3636b5",
   "metadata": {},
   "source": [
    "### Q7: How many species have at least one protein record? "
   ]
  },
  {
   "cell_type": "markdown",
   "id": "ae4d77b7",
   "metadata": {},
   "source": [
    "I searched the proteins that belong to taxon level species and counted that species."
   ]
  },
  {
   "cell_type": "code",
   "execution_count": 61,
   "id": "f84804f7",
   "metadata": {},
   "outputs": [
    {
     "data": {
      "text/html": [
       "<div class=\"krn-spql\"><table><tr class=hdr><th>Total</th></tr><tr class=odd><td class=val>1078469</td></tr></table><div class=\"tinfo\">Total: 1, Shown: 1</div></div>"
      ]
     },
     "metadata": {},
     "output_type": "display_data"
    }
   ],
   "source": [
    "PREFIX core: <http://purl.uniprot.org/core/>\n",
    "\n",
    "SELECT (COUNT(DISTINCT ?species) AS ?Total)\n",
    "WHERE \n",
    "{\n",
    "    ?protein    a    core:Protein ;           \n",
    "                core:organism    ?species .\n",
    "    ?species    a    core:Taxon ;             \n",
    "                core:rank    core:Species .  \n",
    "}"
   ]
  },
  {
   "cell_type": "markdown",
   "id": "ab30e186",
   "metadata": {},
   "source": [
    "### Q8: find the AGI codes and gene names for all Arabidopsis thaliana  proteins that have a protein function annotation description that mentions “pattern formation”"
   ]
  },
  {
   "cell_type": "markdown",
   "id": "e4f50398",
   "metadata": {},
   "source": [
    "First I searched the types of annotations because I only want function annotations."
   ]
  },
  {
   "cell_type": "code",
   "execution_count": 62,
   "id": "06fdfe34",
   "metadata": {},
   "outputs": [
    {
     "data": {
      "text/html": [
       "<div class=\"krn-spql\"><table><tr class=hdr><th>type</th></tr><tr class=odd><td class=val><a href=\"http://purl.uniprot.org/core/Chain_Annotation\" target=\"_other\">http://purl.uniprot.org/core/Chain_Annotation</a></td></tr><tr class=even><td class=val><a href=\"http://purl.uniprot.org/core/Signal_Peptide_Annotation\" target=\"_other\">http://purl.uniprot.org/core/Signal_Peptide_Annotation</a></td></tr><tr class=odd><td class=val><a href=\"http://purl.uniprot.org/core/Binding_Site_Annotation\" target=\"_other\">http://purl.uniprot.org/core/Binding_Site_Annotation</a></td></tr><tr class=even><td class=val><a href=\"http://purl.uniprot.org/core/Similarity_Annotation\" target=\"_other\">http://purl.uniprot.org/core/Similarity_Annotation</a></td></tr><tr class=odd><td class=val><a href=\"http://purl.uniprot.org/core/Cofactor_Annotation\" target=\"_other\">http://purl.uniprot.org/core/Cofactor_Annotation</a></td></tr><tr class=even><td class=val><a href=\"http://purl.uniprot.org/core/Region_Annotation\" target=\"_other\">http://purl.uniprot.org/core/Region_Annotation</a></td></tr><tr class=odd><td class=val><a href=\"http://purl.uniprot.org/core/Catalytic_Activity_Annotation\" target=\"_other\">http://purl.uniprot.org/core/Catalytic_Activity_Annotation</a></td></tr><tr class=even><td class=val><a href=\"http://purl.uniprot.org/core/Erroneous_Initiation_Annotation\" target=\"_other\">http://purl.uniprot.org/core/Erroneous_Initiation_Annotation</a></td></tr><tr class=odd><td class=val><a href=\"http://purl.uniprot.org/core/Subunit_Annotation\" target=\"_other\">http://purl.uniprot.org/core/Subunit_Annotation</a></td></tr><tr class=even><td class=val><a href=\"http://purl.uniprot.org/core/Function_Annotation\" target=\"_other\">http://purl.uniprot.org/core/Function_Annotation</a></td></tr></table><div class=\"tinfo\">Total: 10, Shown: 10</div></div>"
      ]
     },
     "metadata": {},
     "output_type": "display_data"
    }
   ],
   "source": [
    "PREFIX core:<http://purl.uniprot.org/core/> \n",
    "PREFIX taxon:<http://purl.uniprot.org/taxonomy/> \n",
    "\n",
    "SELECT DISTINCT ?type \n",
    "WHERE{ \n",
    "    ?protein    a    core:Protein ;                           \n",
    "                core:organism    taxon:3702 ;                    \n",
    "                core:annotation    ?annotation .\n",
    "    ?annotation    a    ?type .                   \n",
    "} LIMIT 10"
   ]
  },
  {
   "cell_type": "markdown",
   "id": "0e702162",
   "metadata": {},
   "source": [
    "To acces the description of the function annotation, I need to know the predicates of annotation."
   ]
  },
  {
   "cell_type": "code",
   "execution_count": 63,
   "id": "a4877d81",
   "metadata": {
    "scrolled": true
   },
   "outputs": [
    {
     "data": {
      "text/html": [
       "<div class=\"krn-spql\"><table><tr class=hdr><th>property</th></tr><tr class=odd><td class=val><a href=\"http://www.w3.org/1999/02/22-rdf-syntax-ns#type\" target=\"_other\">http://www.w3.org/1999/02/22-rdf-syntax-ns#type</a></td></tr><tr class=even><td class=val><a href=\"http://www.w3.org/2000/01/rdf-schema#comment\" target=\"_other\">http://www.w3.org/2000/01/rdf-schema#comment</a></td></tr><tr class=odd><td class=val><a href=\"http://purl.uniprot.org/core/sequence\" target=\"_other\">http://purl.uniprot.org/core/sequence</a></td></tr></table><div class=\"tinfo\">Total: 3, Shown: 3</div></div>"
      ]
     },
     "metadata": {},
     "output_type": "display_data"
    }
   ],
   "source": [
    "PREFIX core:<http://purl.uniprot.org/core/> \n",
    "PREFIX taxon:<http://purl.uniprot.org/taxonomy/> \n",
    "\n",
    "SELECT DISTINCT ?property \n",
    "WHERE{ \n",
    "    ?protein    a    core:Protein ;                           \n",
    "                core:organism    taxon:3702 ;                    \n",
    "                core:annotation    ?annotation .\n",
    "    ?annotation    a    core:Function_Annotation ;              \n",
    "                   ?property    ?description\n",
    "} LIMIT 10"
   ]
  },
  {
   "cell_type": "markdown",
   "id": "4cd946c1",
   "metadata": {},
   "source": [
    "With the comment predicate, I obtained the annotation to pass the filter with 'pattern formation'.\n",
    "Then, I used the encodedBy predicate obtained previously to search the gene and the predicates of gene."
   ]
  },
  {
   "cell_type": "code",
   "execution_count": 64,
   "id": "3cfdece6",
   "metadata": {},
   "outputs": [
    {
     "data": {
      "text/html": [
       "<div class=\"krn-spql\"><table><tr class=hdr><th>property</th></tr><tr class=odd><td class=val><a href=\"http://www.w3.org/1999/02/22-rdf-syntax-ns#type\" target=\"_other\">http://www.w3.org/1999/02/22-rdf-syntax-ns#type</a></td></tr><tr class=even><td class=val><a href=\"http://www.w3.org/2004/02/skos/core#prefLabel\" target=\"_other\">http://www.w3.org/2004/02/skos/core#prefLabel</a></td></tr><tr class=odd><td class=val><a href=\"http://www.w3.org/2004/02/skos/core#altLabel\" target=\"_other\">http://www.w3.org/2004/02/skos/core#altLabel</a></td></tr><tr class=even><td class=val><a href=\"http://purl.uniprot.org/core/locusName\" target=\"_other\">http://purl.uniprot.org/core/locusName</a></td></tr><tr class=odd><td class=val><a href=\"http://purl.uniprot.org/core/orfName\" target=\"_other\">http://purl.uniprot.org/core/orfName</a></td></tr></table><div class=\"tinfo\">Total: 5, Shown: 5</div></div>"
      ]
     },
     "metadata": {},
     "output_type": "display_data"
    }
   ],
   "source": [
    "PREFIX core:<http://purl.uniprot.org/core/> \n",
    "PREFIX taxon:<http://purl.uniprot.org/taxonomy/> \n",
    "\n",
    "SELECT DISTINCT ?property \n",
    "WHERE{ \n",
    "    ?protein    a    core:Protein ;                           \n",
    "                core:organism    taxon:3702 ;                    \n",
    "                core:annotation    ?annotation .\n",
    "    ?annotation    a    core:Function_Annotation ;              \n",
    "                   rdfs:comment    ?description .\n",
    "    FILTER regex(?description, 'pattern formation','i') .\n",
    "    ?protein    core:encodedBy    ?gene .\n",
    "    ?gene    ?property    ?agi_code . \n",
    "} LIMIT 10"
   ]
  },
  {
   "cell_type": "markdown",
   "id": "ffb9eb03",
   "metadata": {},
   "source": [
    "With the property locusName, I obtained the AGI code and with prefLabel, the name."
   ]
  },
  {
   "cell_type": "code",
   "execution_count": 65,
   "id": "b6825245",
   "metadata": {},
   "outputs": [
    {
     "data": {
      "text/html": [
       "<div class=\"krn-spql\"><table><tr class=hdr><th>agi_code</th>\n",
       "<th>gene_name</th></tr><tr class=odd><td class=val>At1g13980</td>\n",
       "<td class=val>GN</td></tr><tr class=even><td class=val>At3g02130</td>\n",
       "<td class=val>RPK2</td></tr><tr class=odd><td class=val>At1g69270</td>\n",
       "<td class=val>RPK1</td></tr><tr class=even><td class=val>At5g37800</td>\n",
       "<td class=val>RSL1</td></tr><tr class=odd><td class=val>At1g26830</td>\n",
       "<td class=val>CUL3A</td></tr><tr class=even><td class=val>At1g66470</td>\n",
       "<td class=val>RHD6</td></tr><tr class=odd><td class=val>At3g09090</td>\n",
       "<td class=val>DEX1</td></tr><tr class=even><td class=val>At5g55250</td>\n",
       "<td class=val>IAMT1</td></tr><tr class=odd><td class=val>At1g63700</td>\n",
       "<td class=val>YDA</td></tr><tr class=even><td class=val>At4g21750</td>\n",
       "<td class=val>ATML1</td></tr></table><div class=\"tinfo\">Total: 10, Shown: 10</div></div>"
      ]
     },
     "metadata": {},
     "output_type": "display_data"
    }
   ],
   "source": [
    "PREFIX core:<http://purl.uniprot.org/core/> \n",
    "PREFIX taxon:<http://purl.uniprot.org/taxonomy/> \n",
    "PREFIX skos:<http://www.w3.org/2004/02/skos/core#>\n",
    "\n",
    "SELECT DISTINCT ?agi_code ?gene_name\n",
    "WHERE{ \n",
    "    ?protein    a    core:Protein ;                           \n",
    "                core:organism    taxon:3702 ;                    \n",
    "                core:annotation    ?annotation .\n",
    "    ?annotation    a    core:Function_Annotation ;              \n",
    "                   rdfs:comment    ?description .\n",
    "    FILTER regex( ?description, 'pattern formation','i') .\n",
    "    ?protein    core:encodedBy    ?gene .\n",
    "    ?gene    core:locusName    ?agi_code ;\n",
    "             skos:prefLabel ?gene_name .\n",
    "} LIMIT 10"
   ]
  },
  {
   "cell_type": "markdown",
   "id": "9d03f975",
   "metadata": {},
   "source": [
    "### Q9: what is the MetaNetX Reaction identifier (starts with “mnxr”) for the UniProt Protein uniprotkb:Q18A79"
   ]
  },
  {
   "cell_type": "markdown",
   "id": "3cc7bb6c",
   "metadata": {},
   "source": [
    "First, I changed the endpoint to metanetx."
   ]
  },
  {
   "cell_type": "code",
   "execution_count": 66,
   "id": "9bb08629",
   "metadata": {},
   "outputs": [
    {
     "data": {
      "text/html": [
       "<div class=\"krn-spql\"><div class=\"magic\">Endpoint set to: https://rdf.metanetx.org/sparql</div><div class=\"magic\">Result maximum size: unlimited</div></div>"
      ],
      "text/plain": [
       "Endpoint set to: https://rdf.metanetx.org/sparql\n",
       "Result maximum size: unlimited\n"
      ]
     },
     "metadata": {},
     "output_type": "display_data"
    }
   ],
   "source": [
    "%endpoint https://rdf.metanetx.org/sparql  \n",
    "%show all"
   ]
  },
  {
   "cell_type": "markdown",
   "id": "1ab1e84e",
   "metadata": {},
   "source": [
    "Now, I explore the resources types."
   ]
  },
  {
   "cell_type": "code",
   "execution_count": 67,
   "id": "ba75a6f0",
   "metadata": {},
   "outputs": [
    {
     "data": {
      "text/html": [
       "<div class=\"krn-spql\"><table><tr class=hdr><th>type</th></tr><tr class=odd><td class=val><a href=\"http://www.openlinksw.com/schemas/virtrdf#QuadMapFormat\" target=\"_other\">http://www.openlinksw.com/schemas/virtrdf#QuadMapFormat</a></td></tr><tr class=even><td class=val><a href=\"http://www.openlinksw.com/schemas/virtrdf#QuadStorage\" target=\"_other\">http://www.openlinksw.com/schemas/virtrdf#QuadStorage</a></td></tr><tr class=odd><td class=val><a href=\"http://www.openlinksw.com/schemas/virtrdf#array-of-QuadMapFormat\" target=\"_other\">http://www.openlinksw.com/schemas/virtrdf#array-of-QuadMapFormat</a></td></tr><tr class=even><td class=val><a href=\"http://www.openlinksw.com/schemas/virtrdf#QuadMap\" target=\"_other\">http://www.openlinksw.com/schemas/virtrdf#QuadMap</a></td></tr><tr class=odd><td class=val><a href=\"http://www.openlinksw.com/schemas/virtrdf#QuadMapValue\" target=\"_other\">http://www.openlinksw.com/schemas/virtrdf#QuadMapValue</a></td></tr><tr class=even><td class=val><a href=\"http://www.openlinksw.com/schemas/virtrdf#array-of-QuadMapColumn\" target=\"_other\">http://www.openlinksw.com/schemas/virtrdf#array-of-QuadMapColumn</a></td></tr><tr class=odd><td class=val><a href=\"http://www.openlinksw.com/schemas/virtrdf#QuadMapColumn\" target=\"_other\">http://www.openlinksw.com/schemas/virtrdf#QuadMapColumn</a></td></tr><tr class=even><td class=val><a href=\"http://www.openlinksw.com/schemas/virtrdf#array-of-QuadMapATable\" target=\"_other\">http://www.openlinksw.com/schemas/virtrdf#array-of-QuadMapATable</a></td></tr><tr class=odd><td class=val><a href=\"http://www.openlinksw.com/schemas/virtrdf#QuadMapATable\" target=\"_other\">http://www.openlinksw.com/schemas/virtrdf#QuadMapATable</a></td></tr><tr class=even><td class=val><a href=\"http://www.openlinksw.com/schemas/virtrdf#QuadMapFText\" target=\"_other\">http://www.openlinksw.com/schemas/virtrdf#QuadMapFText</a></td></tr><tr class=odd><td class=val><a href=\"http://www.openlinksw.com/schemas/virtrdf#array-of-string\" target=\"_other\">http://www.openlinksw.com/schemas/virtrdf#array-of-string</a></td></tr><tr class=even><td class=val><a href=\"http://www.openlinksw.com/schemas/virtrdf#array-of-QuadMap\" target=\"_other\">http://www.openlinksw.com/schemas/virtrdf#array-of-QuadMap</a></td></tr><tr class=odd><td class=val><a href=\"http://www.w3.org/1999/02/22-rdf-syntax-ns#Property\" target=\"_other\">http://www.w3.org/1999/02/22-rdf-syntax-ns#Property</a></td></tr><tr class=even><td class=val><a href=\"http://www.w3.org/2002/07/owl#Class\" target=\"_other\">http://www.w3.org/2002/07/owl#Class</a></td></tr><tr class=odd><td class=val><a href=\"http://www.w3.org/2002/07/owl#Ontology\" target=\"_other\">http://www.w3.org/2002/07/owl#Ontology</a></td></tr><tr class=even><td class=val><a href=\"http://www.w3.org/2000/01/rdf-schema#Class\" target=\"_other\">http://www.w3.org/2000/01/rdf-schema#Class</a></td></tr><tr class=odd><td class=val><a href=\"http://www.w3.org/2002/07/owl#OntologyProperty\" target=\"_other\">http://www.w3.org/2002/07/owl#OntologyProperty</a></td></tr><tr class=even><td class=val><a href=\"http://www.w3.org/2002/07/owl#AnnotationProperty\" target=\"_other\">http://www.w3.org/2002/07/owl#AnnotationProperty</a></td></tr><tr class=odd><td class=val><a href=\"http://www.w3.org/ns/sparql-service-description#Service\" target=\"_other\">http://www.w3.org/ns/sparql-service-description#Service</a></td></tr><tr class=even><td class=val><a href=\"http://www.w3.org/1999/02/22-rdf-syntax-ns#Propert\" target=\"_other\">http://www.w3.org/1999/02/22-rdf-syntax-ns#Propert</a></td></tr><tr class=odd><td class=val><a href=\"https://rdf.metanetx.org/schema/CATA\" target=\"_other\">https://rdf.metanetx.org/schema/CATA</a></td></tr><tr class=even><td class=val><a href=\"https://rdf.metanetx.org/schema/COMP\" target=\"_other\">https://rdf.metanetx.org/schema/COMP</a></td></tr><tr class=odd><td class=val><a href=\"https://rdf.metanetx.org/schema/CPLX\" target=\"_other\">https://rdf.metanetx.org/schema/CPLX</a></td></tr><tr class=even><td class=val><a href=\"https://rdf.metanetx.org/schema/GPR\" target=\"_other\">https://rdf.metanetx.org/schema/GPR</a></td></tr><tr class=odd><td class=val><a href=\"https://rdf.metanetx.org/schema/MNET\" target=\"_other\">https://rdf.metanetx.org/schema/MNET</a></td></tr><tr class=even><td class=val><a href=\"https://rdf.metanetx.org/schema/PART\" target=\"_other\">https://rdf.metanetx.org/schema/PART</a></td></tr><tr class=odd><td class=val><a href=\"https://rdf.metanetx.org/schema/PEPT\" target=\"_other\">https://rdf.metanetx.org/schema/PEPT</a></td></tr><tr class=even><td class=val><a href=\"https://rdf.metanetx.org/schema/REAC\" target=\"_other\">https://rdf.metanetx.org/schema/REAC</a></td></tr><tr class=odd><td class=val><a href=\"https://rdf.metanetx.org/schema/CHEM\" target=\"_other\">https://rdf.metanetx.org/schema/CHEM</a></td></tr></table><div class=\"tinfo\">Total: 29, Shown: 29</div></div>"
      ]
     },
     "metadata": {},
     "output_type": "display_data"
    }
   ],
   "source": [
    "SELECT DISTINCT ?type\n",
    "WHERE {\n",
    "    ?s    a    ?type\n",
    "}"
   ]
  },
  {
   "cell_type": "markdown",
   "id": "42e2d144",
   "metadata": {},
   "source": [
    "I used the uniprot identifier to know the properties that relate it with the database."
   ]
  },
  {
   "cell_type": "code",
   "execution_count": 68,
   "id": "34629dfb",
   "metadata": {},
   "outputs": [
    {
     "data": {
      "text/html": [
       "<div class=\"krn-spql\"><table><tr class=hdr><th>property</th></tr><tr class=odd><td class=val><a href=\"https://rdf.metanetx.org/schema/peptXref\" target=\"_other\">https://rdf.metanetx.org/schema/peptXref</a></td></tr><tr class=even><td class=val><a href=\"https://rdf.metanetx.org/schema/peptRefer\" target=\"_other\">https://rdf.metanetx.org/schema/peptRefer</a></td></tr><tr class=odd><td class=val><a href=\"https://rdf.metanetx.org/schema/peptSource\" target=\"_other\">https://rdf.metanetx.org/schema/peptSource</a></td></tr></table><div class=\"tinfo\">Total: 3, Shown: 3</div></div>"
      ]
     },
     "metadata": {},
     "output_type": "display_data"
    }
   ],
   "source": [
    "PREFIX uniprot: <http://purl.uniprot.org/uniprot/>\n",
    "\n",
    "SELECT DISTINCT ?property \n",
    "WHERE{\n",
    "    ?peptide    ?property    uniprot:Q18A79 .\n",
    "}"
   ]
  },
  {
   "cell_type": "markdown",
   "id": "839b0277",
   "metadata": {},
   "source": [
    "I chose peptXref. Then, I searched the predicates of peptide, but there are none that are useful, so I tried using peptide in the other position."
   ]
  },
  {
   "cell_type": "code",
   "execution_count": 69,
   "id": "635bfcdb",
   "metadata": {
    "scrolled": true
   },
   "outputs": [
    {
     "data": {
      "text/html": [
       "<div class=\"krn-spql\"><table><tr class=hdr><th>property</th></tr><tr class=odd><td class=val><a href=\"https://rdf.metanetx.org/schema/pept\" target=\"_other\">https://rdf.metanetx.org/schema/pept</a></td></tr><tr class=even><td class=val><a href=\"https://rdf.metanetx.org/schema/subu\" target=\"_other\">https://rdf.metanetx.org/schema/subu</a></td></tr></table><div class=\"tinfo\">Total: 2, Shown: 2</div></div>"
      ]
     },
     "metadata": {},
     "output_type": "display_data"
    }
   ],
   "source": [
    "PREFIX uniprot: <http://purl.uniprot.org/uniprot/>\n",
    "PREFIX meta: <https://rdf.metanetx.org/schema/>\n",
    "\n",
    "SELECT DISTINCT ?property \n",
    "WHERE{\n",
    "    ?peptide    meta:peptXref    uniprot:Q18A79 .\n",
    "    ?reaction    ?property    ?peptide .\n",
    "} LIMIT 10"
   ]
  },
  {
   "cell_type": "markdown",
   "id": "7064fc90",
   "metadata": {},
   "source": [
    "I chose pept because the database documentation says that it can refer to a gene product.\n",
    "The documentation also has graphs that show the following predicates: meta:cata, meta:reac and rdfs:label to obtain the reaction identifier. "
   ]
  },
  {
   "cell_type": "code",
   "execution_count": 70,
   "id": "e1423552",
   "metadata": {},
   "outputs": [
    {
     "data": {
      "text/html": [
       "<div class=\"krn-spql\"><table><tr class=hdr><th>reaction_identifier</th></tr><tr class=odd><td class=val>mnxr165934</td></tr><tr class=even><td class=val>mnxr145046c3</td></tr></table><div class=\"tinfo\">Total: 2, Shown: 2</div></div>"
      ]
     },
     "metadata": {},
     "output_type": "display_data"
    }
   ],
   "source": [
    "PREFIX uniprot: <http://purl.uniprot.org/uniprot/>\n",
    "PREFIX meta: <https://rdf.metanetx.org/schema/>\n",
    "\n",
    "SELECT DISTINCT ?reaction_identifier \n",
    "WHERE{\n",
    "    ?peptide    meta:peptXref    uniprot:Q18A79 .\n",
    "    ?catalyst    meta:pept    ?peptide .\n",
    "    ?s    meta:cata    ?catalyst ;\n",
    "          meta:reac    ?reaction .\n",
    "    ?reaction rdfs:label ?reaction_identifier\n",
    "    FILTER regex( ?reaction_identifier, '^mnx*','i') .\n",
    "} LIMIT 10"
   ]
  },
  {
   "cell_type": "markdown",
   "id": "4deed253",
   "metadata": {},
   "source": [
    "### Q10: What is the official locus name, and the MetaNetX Reaction identifier (mnxr…..) for the protein that has “glycine reductase” catalytic activity in Clostridium difficile (taxon 272563).   (this must be executed on the https://rdf.metanetx.org/sparql   endpoint)\n"
   ]
  },
  {
   "cell_type": "code",
   "execution_count": 71,
   "id": "bc41ab83",
   "metadata": {},
   "outputs": [
    {
     "data": {
      "text/html": [
       "<div class=\"krn-spql\"><div class=\"magic\">Endpoint set to: https://sparql.uniprot.org/sparql</div></div>"
      ],
      "text/plain": [
       "Endpoint set to: https://sparql.uniprot.org/sparql\n"
      ]
     },
     "metadata": {},
     "output_type": "display_data"
    }
   ],
   "source": [
    "%endpoint https://sparql.uniprot.org/sparql"
   ]
  },
  {
   "cell_type": "markdown",
   "id": "9daefbad",
   "metadata": {},
   "source": [
    "This exercise is similar to 8 and 9, so I already have the information I need.\n",
    "First I'm going to find the protein code (for metanetx) and the official locus name."
   ]
  },
  {
   "cell_type": "code",
   "execution_count": 72,
   "id": "9de4af13",
   "metadata": {},
   "outputs": [
    {
     "data": {
      "text/html": [
       "<div class=\"krn-spql\"><table><tr class=hdr><th>protein</th>\n",
       "<th>locus_name</th>\n",
       "<th>gene_name</th></tr><tr class=odd><td class=val><a href=\"http://purl.uniprot.org/uniprot/Q185M6\" target=\"_other\">http://purl.uniprot.org/uniprot/Q185M6</a></td>\n",
       "<td class=val>CD630_23520</td>\n",
       "<td class=val>grdA</td></tr><tr class=even><td class=val><a href=\"http://purl.uniprot.org/uniprot/Q185M3\" target=\"_other\">http://purl.uniprot.org/uniprot/Q185M3</a></td>\n",
       "<td class=val>CD630_23510</td>\n",
       "<td class=val>grdB</td></tr><tr class=odd><td class=val><a href=\"http://purl.uniprot.org/uniprot/Q185M4\" target=\"_other\">http://purl.uniprot.org/uniprot/Q185M4</a></td>\n",
       "<td class=val>CD630_23490</td>\n",
       "<td class=val>grdC</td></tr><tr class=even><td class=val><a href=\"http://purl.uniprot.org/uniprot/Q185M1\" target=\"_other\">http://purl.uniprot.org/uniprot/Q185M1</a></td>\n",
       "<td class=val>CD630_23480</td>\n",
       "<td class=val>grdD</td></tr><tr class=odd><td class=val><a href=\"http://purl.uniprot.org/uniprot/Q185M5\" target=\"_other\">http://purl.uniprot.org/uniprot/Q185M5</a></td>\n",
       "<td class=val>CD630_23540</td>\n",
       "<td class=val>grdE</td></tr></table><div class=\"tinfo\">Total: 5, Shown: 5</div></div>"
      ]
     },
     "metadata": {},
     "output_type": "display_data"
    }
   ],
   "source": [
    "PREFIX core:<http://purl.uniprot.org/core/> \n",
    "PREFIX taxon:<http://purl.uniprot.org/taxonomy/> \n",
    "PREFIX skos:<http://www.w3.org/2004/02/skos/core#>\n",
    "\n",
    "SELECT DISTINCT ?protein ?locus_name ?gene_name\n",
    "WHERE{ \n",
    "    ?protein    a    core:Protein ;                           \n",
    "                core:organism    taxon:272563 ; \n",
    "                core:classifiedWith    ?p .\n",
    "    ?p    rdfs:label    ?activity .\n",
    "    FILTER regex(?activity, 'glycine reductase','i') .\n",
    "    ?protein    core:encodedBy    ?gene .\n",
    "    ?gene   core:locusName    ?locus_name ;\n",
    "            skos:prefLabel    ?gene_name .\n",
    "} ORDER BY ?gene_name"
   ]
  },
  {
   "cell_type": "markdown",
   "id": "25284c28",
   "metadata": {},
   "source": [
    "As a result, we obtain a table of 5 proteins. If we searched them in UniprotKB data repository, we find that all these proteins are components of the glycine reductase from Clostridium difficile.\n",
    "\n",
    "Now, I'm going to concatenate this uniprot query with the metanetx query from the exercise 9."
   ]
  },
  {
   "cell_type": "code",
   "execution_count": 73,
   "id": "edf333cf",
   "metadata": {},
   "outputs": [
    {
     "data": {
      "text/html": [
       "<div class=\"krn-spql\"><div class=\"magic\">Endpoint set to: https://rdf.metanetx.org/sparql</div></div>"
      ],
      "text/plain": [
       "Endpoint set to: https://rdf.metanetx.org/sparql\n"
      ]
     },
     "metadata": {},
     "output_type": "display_data"
    },
    {
     "data": {
      "text/html": [
       "<div class=\"krn-spql\"><table><tr class=hdr><th>locus_name</th>\n",
       "<th>gene_name</th>\n",
       "<th>protein</th>\n",
       "<th>reaction_identifier</th></tr><tr class=odd><td class=val>CD630_23520</td>\n",
       "<td class=val>grdA</td>\n",
       "<td class=val><a href=\"http://purl.uniprot.org/uniprot/Q185M6\" target=\"_other\">http://purl.uniprot.org/uniprot/Q185M6</a></td>\n",
       "<td class=val>mnxr157884c3</td></tr><tr class=even><td class=val>CD630_23520</td>\n",
       "<td class=val>grdA</td>\n",
       "<td class=val><a href=\"http://purl.uniprot.org/uniprot/Q185M6\" target=\"_other\">http://purl.uniprot.org/uniprot/Q185M6</a></td>\n",
       "<td class=val>mnxr162774c3</td></tr><tr class=odd><td class=val>CD630_23510</td>\n",
       "<td class=val>grdB</td>\n",
       "<td class=val><a href=\"http://purl.uniprot.org/uniprot/Q185M3\" target=\"_other\">http://purl.uniprot.org/uniprot/Q185M3</a></td>\n",
       "<td class=val>mnxr157884c3</td></tr><tr class=even><td class=val>CD630_23510</td>\n",
       "<td class=val>grdB</td>\n",
       "<td class=val><a href=\"http://purl.uniprot.org/uniprot/Q185M3\" target=\"_other\">http://purl.uniprot.org/uniprot/Q185M3</a></td>\n",
       "<td class=val>mnxr162774c3</td></tr><tr class=odd><td class=val>CD630_23490</td>\n",
       "<td class=val>grdC</td>\n",
       "<td class=val><a href=\"http://purl.uniprot.org/uniprot/Q185M4\" target=\"_other\">http://purl.uniprot.org/uniprot/Q185M4</a></td>\n",
       "<td class=val>mnxr157884c3</td></tr><tr class=even><td class=val>CD630_23490</td>\n",
       "<td class=val>grdC</td>\n",
       "<td class=val><a href=\"http://purl.uniprot.org/uniprot/Q185M4\" target=\"_other\">http://purl.uniprot.org/uniprot/Q185M4</a></td>\n",
       "<td class=val>mnxr162774c3</td></tr><tr class=odd><td class=val>CD630_23480</td>\n",
       "<td class=val>grdD</td>\n",
       "<td class=val><a href=\"http://purl.uniprot.org/uniprot/Q185M1\" target=\"_other\">http://purl.uniprot.org/uniprot/Q185M1</a></td>\n",
       "<td class=val>mnxr157884c3</td></tr><tr class=even><td class=val>CD630_23480</td>\n",
       "<td class=val>grdD</td>\n",
       "<td class=val><a href=\"http://purl.uniprot.org/uniprot/Q185M1\" target=\"_other\">http://purl.uniprot.org/uniprot/Q185M1</a></td>\n",
       "<td class=val>mnxr162774c3</td></tr><tr class=odd><td class=val>CD630_23540</td>\n",
       "<td class=val>grdE</td>\n",
       "<td class=val><a href=\"http://purl.uniprot.org/uniprot/Q185M5\" target=\"_other\">http://purl.uniprot.org/uniprot/Q185M5</a></td>\n",
       "<td class=val>mnxr157884c3</td></tr></table><div class=\"tinfo\">Total: 9, Shown: 9</div></div>"
      ]
     },
     "metadata": {},
     "output_type": "display_data"
    }
   ],
   "source": [
    "%endpoint https://rdf.metanetx.org/sparql  \n",
    "\n",
    "PREFIX meta: <https://rdf.metanetx.org/schema/>\n",
    "PREFIX core: <http://purl.uniprot.org/core/>\n",
    "PREFIX taxon: <http://purl.uniprot.org/taxonomy/>\n",
    "\n",
    "SELECT DISTINCT ?locus_name ?gene_name ?protein ?reaction_identifier\n",
    "WHERE\n",
    "{\n",
    "    service <http://sparql.uniprot.org/sparql> { \n",
    "        ?protein    a    core:Protein ;                           \n",
    "                    core:organism    taxon:272563 ; \n",
    "                    core:classifiedWith    ?p .\n",
    "        ?p    rdfs:label    ?activity .\n",
    "        FILTER regex(?activity, 'glycine reductase','i') .\n",
    "        ?protein    core:encodedBy    ?gene .\n",
    "        ?gene   core:locusName    ?locus_name ;\n",
    "                skos:prefLabel    ?gene_name .\n",
    "    }\n",
    "    \n",
    "    ?peptide    meta:peptXref    ?protein .\n",
    "    ?catalyst    meta:pept    ?peptide .\n",
    "    ?s    meta:cata    ?catalyst ;\n",
    "          meta:reac    ?reaction .\n",
    "    ?reaction rdfs:label ?reaction_identifier\n",
    "    FILTER regex( ?reaction_identifier, '^mnx*','i') .\n",
    "} ORDER BY ?gene_name"
   ]
  },
  {
   "cell_type": "markdown",
   "id": "73d78812",
   "metadata": {},
   "source": [
    "I obtained reaction identifiers for the five glycine reductases."
   ]
  }
 ],
 "metadata": {
  "kernelspec": {
   "display_name": "SPARQL",
   "language": "sparql",
   "name": "sparql"
  },
  "language_info": {
   "codemirror_mode": {
    "name": "sparql"
   },
   "mimetype": "application/sparql-query",
   "name": "sparql",
   "pygments_lexer": "sparql-nb"
  }
 },
 "nbformat": 4,
 "nbformat_minor": 5
}
